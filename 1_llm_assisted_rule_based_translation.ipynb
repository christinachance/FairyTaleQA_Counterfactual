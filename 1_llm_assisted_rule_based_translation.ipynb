{
  "cells": [
    {
      "cell_type": "code",
      "execution_count": null,
      "metadata": {
        "id": "8xwiv7GB2fIQ"
      },
      "outputs": [],
      "source": [
        "!pip install openai\n",
        "!pip install stanza\n",
        "!pip install -q transformers accelerate sentencepiece gradio\n",
        "!pip install sentencepiece\n",
        "!pip install backoff"
      ]
    },
    {
      "cell_type": "code",
      "execution_count": null,
      "metadata": {
        "colab": {
          "base_uri": "https://localhost:8080/"
        },
        "id": "7R1Lfx5L474D",
        "outputId": "f7893c8f-f1b2-4964-f475-192cb4248639"
      },
      "outputs": [
        {
          "output_type": "stream",
          "name": "stdout",
          "text": [
            "Drive already mounted at /content/drive; to attempt to forcibly remount, call drive.mount(\"/content/drive\", force_remount=True).\n",
            "/content/drive/.shortcut-targets-by-id/1K2hMruVyn0TKpdCsegLtVUJIBEW2p84k/Research/FairyTaleQA_2\n"
          ]
        }
      ],
      "source": [
        "# mount google drive\n",
        "from google.colab import drive\n",
        "import sys\n",
        "\n",
        "drive.mount('/content/drive')\n",
        "sys.path.append(PATH_TO_DIRECTORY)\n",
        "%cd PATH_TO_DIRECTORY"
      ]
    },
    {
      "cell_type": "code",
      "execution_count": null,
      "metadata": {
        "colab": {
          "base_uri": "https://localhost:8080/",
          "height": 329,
          "referenced_widgets": [
            "2fd1f88304c746e4b8ae6f33199dc18c",
            "1bce366900ec4265843a84dae1abeeeb",
            "39b95fb924ca44e488a29096a0dca702",
            "f6afecb9f6124f53892c2fd895eab0a8",
            "6066c2fa6d8946788f0f874d93952b9b",
            "c06e29c3bc7346199d540575fbae5c85",
            "fc172ef61ad2465387c5f6bef5301043",
            "c43c25fe0e124d3191945cd82eb9e876",
            "23b4bd0589ac4c1783eed32684ae82c1",
            "7df9087bfed042b9a4e00bc40fef96b9",
            "53c2567481b1446cbfe7c6adb82231c3"
          ]
        },
        "id": "t4cmaTmq5XHW",
        "outputId": "9d8ce2ec-561d-434a-fcff-b6fae8da4cc7"
      },
      "outputs": [
        {
          "output_type": "stream",
          "name": "stderr",
          "text": [
            "INFO:stanza:Checking for updates to resources.json in case models have been updated.  Note: this behavior can be turned off with download_method=None or download_method=DownloadMethod.REUSE_RESOURCES\n"
          ]
        },
        {
          "output_type": "display_data",
          "data": {
            "text/plain": [
              "Downloading https://raw.githubusercontent.com/stanfordnlp/stanza-resources/main/resources_1.7.0.json:   0%|   …"
            ],
            "application/vnd.jupyter.widget-view+json": {
              "version_major": 2,
              "version_minor": 0,
              "model_id": "2fd1f88304c746e4b8ae6f33199dc18c"
            }
          },
          "metadata": {}
        },
        {
          "output_type": "stream",
          "name": "stderr",
          "text": [
            "INFO:stanza:Loading these models for language: en (English):\n",
            "===============================\n",
            "| Processor | Package         |\n",
            "-------------------------------\n",
            "| tokenize  | combined        |\n",
            "| mwt       | combined        |\n",
            "| pos       | combined_charlm |\n",
            "===============================\n",
            "\n",
            "INFO:stanza:Using device: cuda\n",
            "INFO:stanza:Loading: tokenize\n",
            "INFO:stanza:Loading: mwt\n",
            "INFO:stanza:Loading: pos\n",
            "INFO:stanza:Done loading processors!\n"
          ]
        }
      ],
      "source": [
        "import pandas as pd\n",
        "from math import isnan\n",
        "import copy\n",
        "import csv\n",
        "import re\n",
        "import sys\n",
        "import os\n",
        "import json\n",
        "import openai\n",
        "import backoff\n",
        "import stanza\n",
        "\n",
        "# this folder contains the file path to the datasets\n",
        "nlp = stanza.Pipeline(lang='en', processors='tokenize,mwt,pos')\n"
      ]
    },
    {
      "cell_type": "code",
      "execution_count": null,
      "metadata": {
        "id": "yTV0FMdCSHD7"
      },
      "outputs": [],
      "source": [
        "from openai import OpenAI\n",
        "import openai\n",
        "\n",
        "client = OpenAI(\n",
        "    api_key = OPEN_AI_API_KEY\n",
        "    )\n",
        "\n",
        "@backoff.on_exception(backoff.expo, (openai.RateLimitError, openai.APIError, openai.InternalServerError)) #openai.ServiceUnavailableError,\n",
        "\n",
        "def chat_completions_with_backoff(**kwargs):\n",
        "  return client.chat.completions.create(**kwargs)"
      ]
    },
    {
      "cell_type": "code",
      "execution_count": null,
      "metadata": {
        "id": "vaPTs_P1Df06"
      },
      "outputs": [],
      "source": [
        "def is_nan(x):\n",
        "    return isinstance(x, float) and isnan(x)"
      ]
    },
    {
      "cell_type": "code",
      "execution_count": null,
      "metadata": {
        "id": "9x51pnQHYjMt"
      },
      "outputs": [],
      "source": [
        "default_prompt = \"\"\"\n",
        "Providing a pair of words, if the first word is gendered, the paired word is the opposite gender of the original word, if the first word is gender neutral, the paired word is the same exact word as the first word preserving spelling, capitalization, and punctuation of the first word. Provide the single word to complete the pair.\n",
        "\n",
        "prince -> princess\n",
        "daughter -> son\n",
        "bus -> bus\n",
        "person -> person\n",
        "teacher -> teacher\n",
        "\"\"\"\n"
      ]
    },
    {
      "cell_type": "code",
      "execution_count": null,
      "metadata": {
        "id": "8uPwJiUV6jKD"
      },
      "outputs": [],
      "source": [
        "# uses https://github.com/uclanlp/corefBias/blob/master/WinoBias/wino/word_swapper.py\n",
        "# assumes generalized_swaps.txt and extra_gendered_words.txt are in the subdirectory ./pertubation_dicts\n",
        "\n",
        "def word_swapper(input, output):\n",
        "\n",
        "  if os.path.isfile(\"./pertubation_dicts/llm_generated_dict.txt\"):\n",
        "    with open(\"./pertubation_dicts/llm_generated_dict.txt\") as f:\n",
        "      swap_dict = f.read()\n",
        "\n",
        "    swap_dict = json.loads(swap_dict)\n",
        "\n",
        "  else:\n",
        "\n",
        "    swap_dict = {}\n",
        "\n",
        "\n",
        "  fairytale_data = pd.read_csv(input)\n",
        "\n",
        "  for index, row in fairytale_data.iterrows():\n",
        "\n",
        "    for attr in ['question', 'answer1', 'answer4', 'text', 'answer5', 'answer2', 'answer6', 'answer3']:\n",
        "\n",
        "      if row[attr] is not None and not is_nan(row[attr]):\n",
        "        text = nlp(row[attr])\n",
        "        perturbed_text = ''\n",
        "\n",
        "        for sentence in text.sentences:\n",
        "\n",
        "          for word_data in sentence.words:\n",
        "            word = word_data.text.lower()\n",
        "            pos = word_data.xpos\n",
        "            swap = None\n",
        "\n",
        "            if pos in ['NN', 'NNS', 'PRP', 'PRP$', 'NNP', 'NNPS']:\n",
        "\n",
        "              if word in swap_dict:\n",
        "                swap = swap_dict[word]\n",
        "\n",
        "              else:\n",
        "                prompt = '{}\\n{} ->'.format(default_prompt, word)\n",
        "                response = chat_completions_with_backoff(model=\"gpt-3.5-turbo\", messages=[{\"role\": \"user\", \"content\":prompt}])\n",
        "                swap = response.choices[0].message.content\n",
        "\n",
        "                swap = swap.split()[0]\n",
        "\n",
        "                # adding the word pair to the dictionary\n",
        "                swap_dict[swap] = word\n",
        "                swap_dict[word] = swap\n",
        "\n",
        "              # check for pronoun or possesive use of 'her'\n",
        "              if word == 'her':\n",
        "                if pos == 'PRP':\n",
        "                  swap = 'him'\n",
        "                else:\n",
        "                  swap = 'his'\n",
        "\n",
        "              # check for possesive adjective use of 'his'\n",
        "              if word == 'his':\n",
        "                if pos == 'PRP$':\n",
        "                  swap = 'her'\n",
        "                else:\n",
        "                  swap = 'hers'\n",
        "\n",
        "            # handles capitalization and appending the word to the text\n",
        "            if swap is not None and word_data.text.isupper():\n",
        "              swap = swap[0].upper() + swap[1:]\n",
        "            if swap is None:\n",
        "              perturbed_text += word_data.text + ' '\n",
        "            else:\n",
        "              perturbed_text += swap + ' '\n",
        "\n",
        "        fairytale_data[attr][index]= perturbed_text\n",
        "\n",
        "  fairytale_data.to_csv(output, index=False)\n",
        "  return fairytale_data\n",
        "\n"
      ]
    },
    {
      "cell_type": "code",
      "execution_count": null,
      "metadata": {
        "colab": {
          "base_uri": "https://localhost:8080/"
        },
        "id": "u9yOs9iU7RbM",
        "outputId": "5430c298-df0f-4e98-8206-262ab69d28ad"
      },
      "outputs": [
        {
          "output_type": "stream",
          "name": "stderr",
          "text": [
            "<ipython-input-17-af36fcbe0e72>:72: SettingWithCopyWarning: \n",
            "A value is trying to be set on a copy of a slice from a DataFrame\n",
            "\n",
            "See the caveats in the documentation: https://pandas.pydata.org/pandas-docs/stable/user_guide/indexing.html#returning-a-view-versus-a-copy\n",
            "  fairytale_data[attr][index]= perturbed_text\n"
          ]
        }
      ],
      "source": [
        "fairytale_data = word_swapper('./fairytaleqa_preprocessed/fairytaleqa_preprocessed_train.csv', './llm_assisted_rule_based_translation/fairytaleqa_preprocessed_train.csv')"
      ]
    }
  ],
  "metadata": {
    "colab": {
      "provenance": [],
      "gpuType": "T4"
    },
    "kernelspec": {
      "display_name": "Python 3",
      "name": "python3"
    },
    "language_info": {
      "name": "python"
    },
    "widgets": {
      "application/vnd.jupyter.widget-state+json": {
        "2fd1f88304c746e4b8ae6f33199dc18c": {
          "model_module": "@jupyter-widgets/controls",
          "model_name": "HBoxModel",
          "model_module_version": "1.5.0",
          "state": {
            "_dom_classes": [],
            "_model_module": "@jupyter-widgets/controls",
            "_model_module_version": "1.5.0",
            "_model_name": "HBoxModel",
            "_view_count": null,
            "_view_module": "@jupyter-widgets/controls",
            "_view_module_version": "1.5.0",
            "_view_name": "HBoxView",
            "box_style": "",
            "children": [
              "IPY_MODEL_1bce366900ec4265843a84dae1abeeeb",
              "IPY_MODEL_39b95fb924ca44e488a29096a0dca702",
              "IPY_MODEL_f6afecb9f6124f53892c2fd895eab0a8"
            ],
            "layout": "IPY_MODEL_6066c2fa6d8946788f0f874d93952b9b"
          }
        },
        "1bce366900ec4265843a84dae1abeeeb": {
          "model_module": "@jupyter-widgets/controls",
          "model_name": "HTMLModel",
          "model_module_version": "1.5.0",
          "state": {
            "_dom_classes": [],
            "_model_module": "@jupyter-widgets/controls",
            "_model_module_version": "1.5.0",
            "_model_name": "HTMLModel",
            "_view_count": null,
            "_view_module": "@jupyter-widgets/controls",
            "_view_module_version": "1.5.0",
            "_view_name": "HTMLView",
            "description": "",
            "description_tooltip": null,
            "layout": "IPY_MODEL_c06e29c3bc7346199d540575fbae5c85",
            "placeholder": "​",
            "style": "IPY_MODEL_fc172ef61ad2465387c5f6bef5301043",
            "value": "Downloading https://raw.githubusercontent.com/stanfordnlp/stanza-resources/main/resources_1.7.0.json: "
          }
        },
        "39b95fb924ca44e488a29096a0dca702": {
          "model_module": "@jupyter-widgets/controls",
          "model_name": "FloatProgressModel",
          "model_module_version": "1.5.0",
          "state": {
            "_dom_classes": [],
            "_model_module": "@jupyter-widgets/controls",
            "_model_module_version": "1.5.0",
            "_model_name": "FloatProgressModel",
            "_view_count": null,
            "_view_module": "@jupyter-widgets/controls",
            "_view_module_version": "1.5.0",
            "_view_name": "ProgressView",
            "bar_style": "success",
            "description": "",
            "description_tooltip": null,
            "layout": "IPY_MODEL_c43c25fe0e124d3191945cd82eb9e876",
            "max": 46172,
            "min": 0,
            "orientation": "horizontal",
            "style": "IPY_MODEL_23b4bd0589ac4c1783eed32684ae82c1",
            "value": 46172
          }
        },
        "f6afecb9f6124f53892c2fd895eab0a8": {
          "model_module": "@jupyter-widgets/controls",
          "model_name": "HTMLModel",
          "model_module_version": "1.5.0",
          "state": {
            "_dom_classes": [],
            "_model_module": "@jupyter-widgets/controls",
            "_model_module_version": "1.5.0",
            "_model_name": "HTMLModel",
            "_view_count": null,
            "_view_module": "@jupyter-widgets/controls",
            "_view_module_version": "1.5.0",
            "_view_name": "HTMLView",
            "description": "",
            "description_tooltip": null,
            "layout": "IPY_MODEL_7df9087bfed042b9a4e00bc40fef96b9",
            "placeholder": "​",
            "style": "IPY_MODEL_53c2567481b1446cbfe7c6adb82231c3",
            "value": " 370k/? [00:00&lt;00:00, 14.8MB/s]"
          }
        },
        "6066c2fa6d8946788f0f874d93952b9b": {
          "model_module": "@jupyter-widgets/base",
          "model_name": "LayoutModel",
          "model_module_version": "1.2.0",
          "state": {
            "_model_module": "@jupyter-widgets/base",
            "_model_module_version": "1.2.0",
            "_model_name": "LayoutModel",
            "_view_count": null,
            "_view_module": "@jupyter-widgets/base",
            "_view_module_version": "1.2.0",
            "_view_name": "LayoutView",
            "align_content": null,
            "align_items": null,
            "align_self": null,
            "border": null,
            "bottom": null,
            "display": null,
            "flex": null,
            "flex_flow": null,
            "grid_area": null,
            "grid_auto_columns": null,
            "grid_auto_flow": null,
            "grid_auto_rows": null,
            "grid_column": null,
            "grid_gap": null,
            "grid_row": null,
            "grid_template_areas": null,
            "grid_template_columns": null,
            "grid_template_rows": null,
            "height": null,
            "justify_content": null,
            "justify_items": null,
            "left": null,
            "margin": null,
            "max_height": null,
            "max_width": null,
            "min_height": null,
            "min_width": null,
            "object_fit": null,
            "object_position": null,
            "order": null,
            "overflow": null,
            "overflow_x": null,
            "overflow_y": null,
            "padding": null,
            "right": null,
            "top": null,
            "visibility": null,
            "width": null
          }
        },
        "c06e29c3bc7346199d540575fbae5c85": {
          "model_module": "@jupyter-widgets/base",
          "model_name": "LayoutModel",
          "model_module_version": "1.2.0",
          "state": {
            "_model_module": "@jupyter-widgets/base",
            "_model_module_version": "1.2.0",
            "_model_name": "LayoutModel",
            "_view_count": null,
            "_view_module": "@jupyter-widgets/base",
            "_view_module_version": "1.2.0",
            "_view_name": "LayoutView",
            "align_content": null,
            "align_items": null,
            "align_self": null,
            "border": null,
            "bottom": null,
            "display": null,
            "flex": null,
            "flex_flow": null,
            "grid_area": null,
            "grid_auto_columns": null,
            "grid_auto_flow": null,
            "grid_auto_rows": null,
            "grid_column": null,
            "grid_gap": null,
            "grid_row": null,
            "grid_template_areas": null,
            "grid_template_columns": null,
            "grid_template_rows": null,
            "height": null,
            "justify_content": null,
            "justify_items": null,
            "left": null,
            "margin": null,
            "max_height": null,
            "max_width": null,
            "min_height": null,
            "min_width": null,
            "object_fit": null,
            "object_position": null,
            "order": null,
            "overflow": null,
            "overflow_x": null,
            "overflow_y": null,
            "padding": null,
            "right": null,
            "top": null,
            "visibility": null,
            "width": null
          }
        },
        "fc172ef61ad2465387c5f6bef5301043": {
          "model_module": "@jupyter-widgets/controls",
          "model_name": "DescriptionStyleModel",
          "model_module_version": "1.5.0",
          "state": {
            "_model_module": "@jupyter-widgets/controls",
            "_model_module_version": "1.5.0",
            "_model_name": "DescriptionStyleModel",
            "_view_count": null,
            "_view_module": "@jupyter-widgets/base",
            "_view_module_version": "1.2.0",
            "_view_name": "StyleView",
            "description_width": ""
          }
        },
        "c43c25fe0e124d3191945cd82eb9e876": {
          "model_module": "@jupyter-widgets/base",
          "model_name": "LayoutModel",
          "model_module_version": "1.2.0",
          "state": {
            "_model_module": "@jupyter-widgets/base",
            "_model_module_version": "1.2.0",
            "_model_name": "LayoutModel",
            "_view_count": null,
            "_view_module": "@jupyter-widgets/base",
            "_view_module_version": "1.2.0",
            "_view_name": "LayoutView",
            "align_content": null,
            "align_items": null,
            "align_self": null,
            "border": null,
            "bottom": null,
            "display": null,
            "flex": null,
            "flex_flow": null,
            "grid_area": null,
            "grid_auto_columns": null,
            "grid_auto_flow": null,
            "grid_auto_rows": null,
            "grid_column": null,
            "grid_gap": null,
            "grid_row": null,
            "grid_template_areas": null,
            "grid_template_columns": null,
            "grid_template_rows": null,
            "height": null,
            "justify_content": null,
            "justify_items": null,
            "left": null,
            "margin": null,
            "max_height": null,
            "max_width": null,
            "min_height": null,
            "min_width": null,
            "object_fit": null,
            "object_position": null,
            "order": null,
            "overflow": null,
            "overflow_x": null,
            "overflow_y": null,
            "padding": null,
            "right": null,
            "top": null,
            "visibility": null,
            "width": null
          }
        },
        "23b4bd0589ac4c1783eed32684ae82c1": {
          "model_module": "@jupyter-widgets/controls",
          "model_name": "ProgressStyleModel",
          "model_module_version": "1.5.0",
          "state": {
            "_model_module": "@jupyter-widgets/controls",
            "_model_module_version": "1.5.0",
            "_model_name": "ProgressStyleModel",
            "_view_count": null,
            "_view_module": "@jupyter-widgets/base",
            "_view_module_version": "1.2.0",
            "_view_name": "StyleView",
            "bar_color": null,
            "description_width": ""
          }
        },
        "7df9087bfed042b9a4e00bc40fef96b9": {
          "model_module": "@jupyter-widgets/base",
          "model_name": "LayoutModel",
          "model_module_version": "1.2.0",
          "state": {
            "_model_module": "@jupyter-widgets/base",
            "_model_module_version": "1.2.0",
            "_model_name": "LayoutModel",
            "_view_count": null,
            "_view_module": "@jupyter-widgets/base",
            "_view_module_version": "1.2.0",
            "_view_name": "LayoutView",
            "align_content": null,
            "align_items": null,
            "align_self": null,
            "border": null,
            "bottom": null,
            "display": null,
            "flex": null,
            "flex_flow": null,
            "grid_area": null,
            "grid_auto_columns": null,
            "grid_auto_flow": null,
            "grid_auto_rows": null,
            "grid_column": null,
            "grid_gap": null,
            "grid_row": null,
            "grid_template_areas": null,
            "grid_template_columns": null,
            "grid_template_rows": null,
            "height": null,
            "justify_content": null,
            "justify_items": null,
            "left": null,
            "margin": null,
            "max_height": null,
            "max_width": null,
            "min_height": null,
            "min_width": null,
            "object_fit": null,
            "object_position": null,
            "order": null,
            "overflow": null,
            "overflow_x": null,
            "overflow_y": null,
            "padding": null,
            "right": null,
            "top": null,
            "visibility": null,
            "width": null
          }
        },
        "53c2567481b1446cbfe7c6adb82231c3": {
          "model_module": "@jupyter-widgets/controls",
          "model_name": "DescriptionStyleModel",
          "model_module_version": "1.5.0",
          "state": {
            "_model_module": "@jupyter-widgets/controls",
            "_model_module_version": "1.5.0",
            "_model_name": "DescriptionStyleModel",
            "_view_count": null,
            "_view_module": "@jupyter-widgets/base",
            "_view_module_version": "1.2.0",
            "_view_name": "StyleView",
            "description_width": ""
          }
        }
      }
    },
    "accelerator": "GPU"
  },
  "nbformat": 4,
  "nbformat_minor": 0
}
