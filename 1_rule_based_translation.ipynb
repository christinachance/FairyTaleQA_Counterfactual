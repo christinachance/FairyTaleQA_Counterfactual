{
  "nbformat": 4,
  "nbformat_minor": 0,
  "metadata": {
    "colab": {
      "provenance": [],
      "gpuType": "T4"
    },
    "kernelspec": {
      "name": "python3",
      "display_name": "Python 3"
    },
    "language_info": {
      "name": "python"
    },
    "accelerator": "GPU"
  },
  "cells": [
    {
      "cell_type": "code",
      "execution_count": null,
      "metadata": {
        "id": "8xwiv7GB2fIQ"
      },
      "outputs": [],
      "source": [
        "!pip install stanza"
      ]
    },
    {
      "cell_type": "code",
      "source": [
        "# mount google drive\n",
        "from google.colab import drive\n",
        "import sys\n",
        "\n",
        "drive.mount('/content/drive')\n",
        "sys.path.append(PATH_TO_DIRECTORY)\n",
        "%cd PATH_TO_DIRECTORY"
      ],
      "metadata": {
        "colab": {
          "base_uri": "https://localhost:8080/"
        },
        "id": "7R1Lfx5L474D",
        "outputId": "03abc2d7-edcd-47fc-a5fd-132a2f37c9ab"
      },
      "execution_count": null,
      "outputs": [
        {
          "output_type": "stream",
          "name": "stdout",
          "text": [
            "Mounted at /content/drive\n",
            "/content/drive/MyDrive/Research/FairyTaleQA_2\n"
          ]
        }
      ]
    },
    {
      "cell_type": "code",
      "source": [
        "import pandas as pd\n",
        "import copy\n",
        "import csv\n",
        "import re\n",
        "import sys\n",
        "import os\n",
        "import stanza\n",
        "from math import isnan\n",
        "\n",
        "\n",
        "nlp = stanza.Pipeline(lang='en', processors='tokenize,mwt,pos')\n"
      ],
      "metadata": {
        "id": "t4cmaTmq5XHW"
      },
      "execution_count": null,
      "outputs": []
    },
    {
      "cell_type": "code",
      "source": [
        "def is_nan(x):\n",
        "    return isinstance(x, float) and isnan(x)"
      ],
      "metadata": {
        "id": "vaPTs_P1Df06"
      },
      "execution_count": null,
      "outputs": []
    },
    {
      "cell_type": "code",
      "source": [
        "# uses https://github.com/uclanlp/corefBias/blob/master/WinoBias/wino/word_swapper.py\n",
        "# assumes generalized_swaps.txt and extra_gendered_words.txt are in the subdirectory ./pertubation_dicts\n",
        "\n",
        "def rule_based_translation(input, output):\n",
        "  swaps = open(\"./perturbation_dicts/generalized_swaps.txt\").readlines()\n",
        "  swap_dict = {}\n",
        "  for line in swaps:\n",
        "    tabs = line.split(\"\\t\")\n",
        "    swap_dict[tabs[-2].strip()] = tabs[-1].strip()\n",
        "\n",
        "  swaps = open(\"./perturbation_dicts/extra_gendered_words.txt\").readlines()\n",
        "  for line in swaps:\n",
        "    tabs = line.split(\"\\t\")\n",
        "    swap_dict[tabs[-2].strip()] = tabs[-1].strip()\n",
        "    swap_dict[tabs[-1].strip()] = tabs[-2].strip()\n",
        "\n",
        "\n",
        "  fairytale_data = pd.read_csv(input)\n",
        "\n",
        "  for index, row in fairytale_data.iterrows():\n",
        "\n",
        "    for attr in ['question', 'answer1', 'answer4', 'text', 'answer5', 'answer2', 'answer6', 'answer3']:\n",
        "\n",
        "      if row[attr] is not None and not is_nan(row[attr]):\n",
        "        text = nlp(row[attr])\n",
        "        perturbed_text = ''\n",
        "\n",
        "        for sentence in text.sentences:\n",
        "\n",
        "          for word_data in sentence.words:\n",
        "            word = word_data.text.lower()\n",
        "            swap = None\n",
        "\n",
        "            if word in swap_dict:\n",
        "              swap = swap_dict[word]\n",
        "\n",
        "            # check for pronoun or possesive use of 'her'\n",
        "            if word == 'her':\n",
        "              if word_data.xpos == 'PRP':\n",
        "                swap = 'him'\n",
        "              else:\n",
        "                swap = 'his'\n",
        "\n",
        "            # check for possesive adjective use of 'his'\n",
        "            if word == 'his':\n",
        "              if word_data.xpos == 'PRP$':\n",
        "                swap = 'her'\n",
        "              else:\n",
        "                swap = 'hers'\n",
        "\n",
        "            # handles capitalization and appending the word to the text\n",
        "            if swap is not None and word_data.text.isupper():\n",
        "              swap = swap[0].upper() + swap[1:]\n",
        "            if swap is None:\n",
        "              perturbed_text += word + ' '\n",
        "            else:\n",
        "              perturbed_text += swap + ' '\n",
        "\n",
        "        fairytale_data[attr][index]= perturbed_text\n",
        "\n",
        "  fairytale_data.to_csv(output, index=False)\n",
        "\n"
      ],
      "metadata": {
        "id": "8uPwJiUV6jKD"
      },
      "execution_count": null,
      "outputs": []
    },
    {
      "cell_type": "code",
      "source": [
        "rule_based_translation('./fairytaleqa_preprocessed/fairytaleqa_preprocessed_train.csv', './rule_based_translation/fairytaleqa_preprocessed_train.csv')"
      ],
      "metadata": {
        "colab": {
          "base_uri": "https://localhost:8080/"
        },
        "id": "u9yOs9iU7RbM",
        "outputId": "6966212a-4396-4bf9-8d73-4bd3a212bb20"
      },
      "execution_count": null,
      "outputs": [
        {
          "output_type": "stream",
          "name": "stderr",
          "text": [
            "<ipython-input-5-0f636be74c08>:59: SettingWithCopyWarning: \n",
            "A value is trying to be set on a copy of a slice from a DataFrame\n",
            "\n",
            "See the caveats in the documentation: https://pandas.pydata.org/pandas-docs/stable/user_guide/indexing.html#returning-a-view-versus-a-copy\n",
            "  fairytale_data[attr][index]= perturbed_text\n"
          ]
        }
      ]
    }
  ]
}
