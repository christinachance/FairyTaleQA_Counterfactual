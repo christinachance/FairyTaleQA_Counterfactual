{
  "nbformat": 4,
  "nbformat_minor": 0,
  "metadata": {
    "colab": {
      "provenance": [],
      "gpuType": "T4"
    },
    "kernelspec": {
      "name": "python3",
      "display_name": "Python 3"
    },
    "language_info": {
      "name": "python"
    },
    "accelerator": "GPU"
  },
  "cells": [
    {
      "cell_type": "code",
      "execution_count": null,
      "metadata": {
        "id": "8xwiv7GB2fIQ"
      },
      "outputs": [],
      "source": [
        "!pip install openai\n",
        "!pip install -q transformers accelerate sentencepiece gradio\n",
        "!pip install sentencepiece\n",
        "!pip install backoff"
      ]
    },
    {
      "cell_type": "code",
      "source": [
        "# mount google drive\n",
        "from google.colab import drive\n",
        "import sys\n",
        "\n",
        "drive.mount('/content/drive')\n",
        "sys.path.append(<PATH_TO_DIRECTORY>)\n",
        "%cd <PATH_TO_DIRECTORY>"
      ],
      "metadata": {
        "id": "7R1Lfx5L474D"
      },
      "execution_count": null,
      "outputs": []
    },
    {
      "cell_type": "code",
      "source": [
        "import pandas as pd\n",
        "from math import isnan\n",
        "import copy\n",
        "import csv\n",
        "import re\n",
        "import sys\n",
        "import os\n",
        "import json\n",
        "import backoff\n",
        "import json\n",
        "\n"
      ],
      "metadata": {
        "id": "t4cmaTmq5XHW"
      },
      "execution_count": null,
      "outputs": []
    },
    {
      "cell_type": "code",
      "source": [
        "from openai import OpenAI\n",
        "import openai\n",
        "\n",
        "client = OpenAI(\n",
        "    api_key = <OPEN_AI_API_KEY>\n",
        "    )\n",
        "\n",
        "@backoff.on_exception(backoff.expo, (openai.RateLimitError, openai.APIError, openai.InternalServerError)) #openai.ServiceUnavailableError,\n",
        "\n",
        "def chat_completions_with_backoff(**kwargs):\n",
        "  return client.chat.completions.create(**kwargs)"
      ],
      "metadata": {
        "id": "yTV0FMdCSHD7"
      },
      "execution_count": null,
      "outputs": []
    },
    {
      "cell_type": "code",
      "source": [
        "def is_nan(x):\n",
        "    return isinstance(x, float) and isnan(x)"
      ],
      "metadata": {
        "id": "vaPTs_P1Df06"
      },
      "execution_count": null,
      "outputs": []
    },
    {
      "cell_type": "code",
      "source": [
        "default_prompt =\"\"\"Rewrite the original text changing all gendered pronouns and nouns referencing people to the opposite gender. Examples of gendered nouns include princess, seamstress, and bride. Do not modify adjectives or verbs. Do not include any explanations.\n",
        "\n",
        "original: \"there once lived a poor widow who supported herself and her only son by gleaning in the fields the stalks of grain that had been missed by the reapers . he had big blue eyes , and fair golden curls , and he loved his good mother very dearly , and was never more pleased than when she allowed him to help her with her work .\"\n",
        "rewritten: \"there once lived a poor widower who supported himself and his only daughter by gleaning in the fields the stalks of grain that had been missed by the reapers . she had big blue eyes , and fair golden curls , and she loved her good father very dearly , and was never more pleased than when he allowed her to help him with his work .\"\n",
        "\n",
        "original: \"how did the poor widow support herself and her son ?\"\n",
        "rewritten: \"how did the poor widower support himself and his daughter?\"\n",
        "\n",
        "original: \"gleaning in the fields the stalks of grain that had been missed by the reapers .\"\n",
        "rewritten: \"gleaning in the fields the stalks of grain that had been missed by the reapers .\"\n",
        "\n",
        "\"\"\"\n"
      ],
      "metadata": {
        "id": "yPTFEdWsG2xP"
      },
      "execution_count": null,
      "outputs": []
    },
    {
      "cell_type": "code",
      "source": [
        "# uses https://github.com/uclanlp/corefBias/blob/master/WinoBias/wino/word_swapper.py\n",
        "# assumes generalized_swaps.txt and extra_gendered_words.txt are in the subdirectory ./pertubation_dicts\n",
        "\n",
        "def word_swapper(input, output):\n",
        "\n",
        "  data = pd.read_csv(input)\n",
        "  counterfactual_data = data.copy(deep=True)\n",
        "  count = 0\n",
        "  text_columns = [col for col in counterfactual_data.columns if (col in ['text', 'question'] or col.startswith('answer'))]\n",
        "\n",
        "\n",
        "  for index, row in counterfactual_data.iterrows():\n",
        "    row_columns = [col for col in text_columns if not is_nan(row[col])]\n",
        "    for col in row_columns:\n",
        "      prompt = '{}\\noriginal: {}\\nrewritten: '.format(default_prompt, row[col])\n",
        "      response = chat_completions_with_backoff(model=\"gpt-3.5-turbo\", messages=[{\"role\": \"user\", \"content\":prompt}])\n",
        "      perturbed_text = response.choices[0].message.content\n",
        "      counterfactual_data.at[index, col] = perturbed_text\n",
        "\n",
        "    count += 1\n",
        "  print(count)\n",
        "  counterfactual_fairytale_data.to_csv(output, index=False)\n",
        "  return counterfactual_data\n",
        "\n"
      ],
      "metadata": {
        "id": "8uPwJiUV6jKD"
      },
      "execution_count": null,
      "outputs": []
    },
    {
      "cell_type": "code",
      "source": [
        "counterfactual_fairytale_data = word_swapper('./fairytaleqa_preprocessed/fairytaleqa_preprocessed_test.csv', './llm_rewrite/fairytaleqa_preprocessed_test.csv')"
      ],
      "metadata": {
        "id": "u9yOs9iU7RbM"
      },
      "execution_count": null,
      "outputs": []
    }
  ]
}